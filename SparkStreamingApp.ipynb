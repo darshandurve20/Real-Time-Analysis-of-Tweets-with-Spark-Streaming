{
 "cells": [
  {
   "cell_type": "code",
   "execution_count": 1,
   "metadata": {},
   "outputs": [],
   "source": [
    "import findspark\n",
    "findspark.init('/home/darshan/spark-3.0.0-preview2-bin-hadoop2.7')"
   ]
  },
  {
   "cell_type": "code",
   "execution_count": 2,
   "metadata": {},
   "outputs": [],
   "source": [
    "from pyspark import SparkContext\n",
    "from pyspark.streaming import StreamingContext\n",
    "from pyspark.sql import SQLContext, SparkSession, Row\n",
    "from pyspark.sql.functions import desc\n",
    "from textblob import TextBlob"
   ]
  },
  {
   "cell_type": "code",
   "execution_count": 3,
   "metadata": {},
   "outputs": [],
   "source": [
    "sc = SparkContext(appName = 'StreamTwitterApp')\n",
    "sc.setLogLevel('ERROR')\n",
    "ssc = StreamingContext(sc, 10 )\n",
    "ssc.checkpoint(\"checkpoint\")"
   ]
  },
  {
   "cell_type": "code",
   "execution_count": 4,
   "metadata": {},
   "outputs": [],
   "source": [
    "socket_stream = ssc.socketTextStream(\"127.0.0.1\", 5557)\n",
    "lines = socket_stream.window( 20 )"
   ]
  },
  {
   "cell_type": "code",
   "execution_count": 5,
   "metadata": {},
   "outputs": [],
   "source": [
    "words = lines.flatMap(lambda line:line.split(\" \"))"
   ]
  },
  {
   "cell_type": "code",
   "execution_count": 6,
   "metadata": {},
   "outputs": [],
   "source": [
    "hashtags =  words.filter( lambda word: word.lower().startswith(\"#\") ). \\\n",
    "            map( lambda word: ( word.lower(), 1 ) ). \\\n",
    "            reduceByKey( lambda a, b: a + b )\n",
    "\n",
    "\n",
    "sorted_dstream_counts = hashtags.transform(lambda foo:foo.sortBy(lambda x:x[0].lower()).sortBy(lambda x:x[1], ascending = False))"
   ]
  },
  {
   "cell_type": "code",
   "execution_count": 7,
   "metadata": {},
   "outputs": [],
   "source": [
    "def analyze_sentiment(text):\n",
    "    testimonial = TextBlob(text)\n",
    "    return testimonial.sentiment.polarity"
   ]
  },
  {
   "cell_type": "code",
   "execution_count": 8,
   "metadata": {},
   "outputs": [],
   "source": [
    "def updateFunction(newValues, runningCount):\n",
    "    if runningCount is None:\n",
    "        runningCount = 0\n",
    "    return sum(newValues, runningCount) "
   ]
  },
  {
   "cell_type": "code",
   "execution_count": 9,
   "metadata": {},
   "outputs": [],
   "source": [
    "allSentiments = lines.map(lambda line: ('Positive', 1) if analyze_sentiment(line) > 0.1 else (('Neutral', 1) if analyze_sentiment(line) > -0.1 else ('Negative', 1) ))\n",
    "sentimentCounts = allSentiments.reduceByKey(lambda x,y: x+y)\n",
    "runningSentimentCounts = sentimentCounts.updateStateByKey(updateFunction)"
   ]
  },
  {
   "cell_type": "code",
   "execution_count": 10,
   "metadata": {},
   "outputs": [],
   "source": [
    "sorted_dstream_counts.pprint()\n",
    "runningSentimentCounts.pprint()"
   ]
  },
  {
   "cell_type": "markdown",
   "metadata": {},
   "source": [
    "__________\n",
    "### Now run TweetStream.py\n",
    "__________"
   ]
  },
  {
   "cell_type": "code",
   "execution_count": 11,
   "metadata": {},
   "outputs": [],
   "source": [
    "ssc.start()    "
   ]
  },
  {
   "cell_type": "code",
   "execution_count": 12,
   "metadata": {},
   "outputs": [
    {
     "name": "stdout",
     "output_type": "stream",
     "text": [
      "-------------------------------------------\n",
      "Time: 2020-05-26 17:23:50\n",
      "-------------------------------------------\n",
      "('#taketrumpofftwitterrt', 3)\n",
      "('#justiceforcarolynrt', 2)\n",
      "('#1141', 1)\n",
      "('#ados', 1)\n",
      "('#ausbiz', 1)\n",
      "('#ausecon', 1)\n",
      "('#breaking:', 1)\n",
      "('#ccpvirus', 1)\n",
      "('#churches', 1)\n",
      "('#coronavirus', 1)\n",
      "...\n",
      "\n",
      "-------------------------------------------\n",
      "Time: 2020-05-26 17:23:50\n",
      "-------------------------------------------\n",
      "('Negative', 22)\n",
      "('Positive', 15)\n",
      "('Neutral', 127)\n",
      "\n",
      "-------------------------------------------\n",
      "Time: 2020-05-26 17:24:00\n",
      "-------------------------------------------\n",
      "('#justiceforcarolynrt', 6)\n",
      "('#taketrumpofftwitterrt', 4)\n",
      "('#whatdoyouthink?', 3)\n",
      "('#envideo', 2)\n",
      "('#obamagate', 2)\n",
      "('#obamagate.rt', 2)\n",
      "('#taketrumpofftwitter', 2)\n",
      "('#trump', 2)\n",
      "('#1141', 1)\n",
      "('#25thamendmentbeforewealldiert', 1)\n",
      "...\n",
      "\n",
      "-------------------------------------------\n",
      "Time: 2020-05-26 17:24:00\n",
      "-------------------------------------------\n",
      "('Negative', 62)\n",
      "('Positive', 52)\n",
      "('Neutral', 390)\n",
      "\n",
      "-------------------------------------------\n",
      "Time: 2020-05-26 17:24:10\n",
      "-------------------------------------------\n",
      "('#justiceforcarolynrt', 7)\n",
      "('#taketrumpofftwitter', 6)\n",
      "('#taketrumpofftwitterrt', 5)\n",
      "('#justiceforcarolyn', 4)\n",
      "('#envideo', 3)\n",
      "('#trumpdeathtoll100k', 3)\n",
      "('#china', 2)\n",
      "('#hongkong', 2)\n",
      "('#ju…rt', 2)\n",
      "('#ndigital', 2)\n",
      "...\n",
      "\n",
      "-------------------------------------------\n",
      "Time: 2020-05-26 17:24:10\n",
      "-------------------------------------------\n",
      "('Negative', 100)\n",
      "('Positive', 106)\n",
      "('Neutral', 694)\n",
      "\n",
      "-------------------------------------------\n",
      "Time: 2020-05-26 17:24:20\n",
      "-------------------------------------------\n",
      "('#taketrumpofftwitter', 9)\n",
      "('#justiceforcarolynrt', 7)\n",
      "('#league46⚾️', 6)\n",
      "('#taketrumpofftwitterrt', 6)\n",
      "('#hongkong', 4)\n",
      "('#justiceforcarolyn', 4)\n",
      "('#notmypresident', 4)\n",
      "('#trumpdeathtoll100k', 4)\n",
      "('#breaking', 3)\n",
      "('#china', 3)\n",
      "...\n",
      "\n",
      "-------------------------------------------\n",
      "Time: 2020-05-26 17:24:20\n",
      "-------------------------------------------\n",
      "('Negative', 142)\n",
      "('Positive', 169)\n",
      "('Neutral', 1043)\n",
      "\n",
      "-------------------------------------------\n",
      "Time: 2020-05-26 17:24:30\n",
      "-------------------------------------------\n",
      "('#taketrumpofftwitter', 11)\n",
      "('#league46⚾️', 6)\n",
      "('#justiceforcarolyn', 5)\n",
      "('#justiceforcarolynrt', 5)\n",
      "('#taketrumpofftwitterrt', 4)\n",
      "('#breaking', 3)\n",
      "('#covid19', 3)\n",
      "('#new:', 3)\n",
      "('#hongkong', 2)\n",
      "('#maga', 2)\n",
      "...\n",
      "\n",
      "-------------------------------------------\n",
      "Time: 2020-05-26 17:24:30\n",
      "-------------------------------------------\n",
      "('Negative', 192)\n",
      "('Positive', 230)\n",
      "('Neutral', 1386)\n",
      "\n",
      "-------------------------------------------\n",
      "Time: 2020-05-26 17:24:40\n",
      "-------------------------------------------\n",
      "('#taketrumpofftwitter', 7)\n",
      "('#justiceforcarolyn', 4)\n",
      "('#taketrumpofftwitterrt', 4)\n",
      "('#trump2020', 2)\n",
      "('#25thamendmentnowrt', 1)\n",
      "('#blacksfortrumparetrumpblacknotblack', 1)\n",
      "('#bluenomatterwho', 1)\n",
      "('#coronavirus.', 1)\n",
      "('#covid', 1)\n",
      "('#covid19', 1)\n",
      "...\n",
      "\n",
      "-------------------------------------------\n",
      "Time: 2020-05-26 17:24:40\n",
      "-------------------------------------------\n",
      "('Negative', 225)\n",
      "('Positive', 264)\n",
      "('Neutral', 1574)\n",
      "\n",
      "-------------------------------------------\n",
      "Time: 2020-05-26 17:24:50\n",
      "-------------------------------------------\n",
      "('#taketrumpofftwitterrt', 2)\n",
      "('#25thamendmentnowrt', 1)\n",
      "('#mailinvoting', 1)\n",
      "('#sackcummings@ddale8', 1)\n",
      "('#trumpdeathtoll100krt', 1)\n",
      "('#trumpdeathtoll100k…', 1)\n",
      "('#trumpfailedamerica', 1)\n",
      "('#trumpfailedameri…rt', 1)\n",
      "\n",
      "-------------------------------------------\n",
      "Time: 2020-05-26 17:24:50\n",
      "-------------------------------------------\n",
      "('Negative', 230)\n",
      "('Positive', 268)\n",
      "('Neutral', 1600)\n",
      "\n"
     ]
    }
   ],
   "source": [
    "ssc.awaitTermination(30)"
   ]
  },
  {
   "cell_type": "code",
   "execution_count": 13,
   "metadata": {},
   "outputs": [],
   "source": [
    "ssc.stop()"
   ]
  },
  {
   "cell_type": "code",
   "execution_count": null,
   "metadata": {},
   "outputs": [],
   "source": []
  }
 ],
 "metadata": {
  "anaconda-cloud": {},
  "kernelspec": {
   "display_name": "Python 3",
   "language": "python",
   "name": "python3"
  },
  "language_info": {
   "codemirror_mode": {
    "name": "ipython",
    "version": 3
   },
   "file_extension": ".py",
   "mimetype": "text/x-python",
   "name": "python",
   "nbconvert_exporter": "python",
   "pygments_lexer": "ipython3",
   "version": "3.8.2"
  }
 },
 "nbformat": 4,
 "nbformat_minor": 1
}
